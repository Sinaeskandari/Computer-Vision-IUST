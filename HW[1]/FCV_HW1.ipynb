{
  "nbformat": 4,
  "nbformat_minor": 0,
  "metadata": {
    "colab": {
      "provenance": []
    },
    "kernelspec": {
      "name": "python3",
      "display_name": "Python 3"
    },
    "language_info": {
      "name": "python"
    }
  },
  "cells": [
    {
      "cell_type": "code",
      "execution_count": 14,
      "metadata": {
        "id": "J-YWX5l9nklf"
      },
      "outputs": [],
      "source": [
        "import cv2\n",
        "from google.colab.patches import cv2_imshow"
      ]
    },
    {
      "cell_type": "code",
      "source": [
        "img = cv2.imread('background.png')"
      ],
      "metadata": {
        "id": "p9n1jkIxoDgZ"
      },
      "execution_count": 15,
      "outputs": []
    },
    {
      "cell_type": "code",
      "source": [
        "img = cv2.cvtColor(img, cv2.COLOR_BGR2RGB)"
      ],
      "metadata": {
        "id": "n910UVrH0gnq"
      },
      "execution_count": 16,
      "outputs": []
    },
    {
      "cell_type": "code",
      "source": [
        "img = cv2.resize(img, (570, 290))"
      ],
      "metadata": {
        "id": "qzx4PuKy-m6N"
      },
      "execution_count": 17,
      "outputs": []
    },
    {
      "cell_type": "code",
      "source": [
        "color = (0, 0, 0)\n",
        "width = 560\n",
        "height = 280\n",
        "x, y = (5, 5)\n",
        "img = cv2.line(img, (x, y), (x + width, y), color)\n",
        "img = cv2.line(img, (x, y), (x, y + height), color)\n",
        "img = cv2.line(img, (x + width, y), (x + width, y + height), color)\n",
        "img = cv2.line(img, (x, y + height), (x + width, y + height), color)"
      ],
      "metadata": {
        "id": "SnkU4rru_liz"
      },
      "execution_count": 18,
      "outputs": []
    },
    {
      "cell_type": "code",
      "source": [
        "cv2_imshow(img)"
      ],
      "metadata": {
        "colab": {
          "base_uri": "https://localhost:8080/",
          "height": 307
        },
        "id": "qxhqHWSsA7cT",
        "outputId": "fe60b75b-b365-44f3-a9ca-3221e7703910"
      },
      "execution_count": 19,
      "outputs": [
        {
          "output_type": "display_data",
          "data": {
            "text/plain": [
              "<PIL.Image.Image image mode=RGB size=570x290 at 0x7F640FBD1A90>"
            ],
            "image/png": "[encoded data removed]"
          },
          "metadata": {}
        }
      ]
    },
    {
      "cell_type": "code",
      "source": [
        "img = cv2.circle(img, (x, y), 5, (255, 0, 0))\n",
        "img = cv2.circle(img, (x + width, y), 5, (0, 255, 0))\n",
        "img = cv2.circle(img, (x, y + height), 5, (0, 0, 255))\n",
        "img = cv2.circle(img, (x + width, y + height), 5, (255, 255, 0))"
      ],
      "metadata": {
        "id": "UKsBF7lqA9s4"
      },
      "execution_count": 20,
      "outputs": []
    },
    {
      "cell_type": "code",
      "source": [
        "cv2_imshow(img)"
      ],
      "metadata": {
        "colab": {
          "base_uri": "https://localhost:8080/",
          "height": 307
        },
        "id": "_ORZcq3QI22F",
        "outputId": "fa8e6860-f963-4079-862d-72d751319a65"
      },
      "execution_count": 21,
      "outputs": [
        {
          "output_type": "display_data",
          "data": {
            "text/plain": [
              "<PIL.Image.Image image mode=RGB size=570x290 at 0x7F640FBD1410>"
            ],
            "image/png": "[encoded data removed]"
          },
          "metadata": {}
        }
      ]
    },
    {
      "cell_type": "code",
      "source": [
        "center_line_points = [(x + i, y + height // 2) for i in range(0, 561, 560//7)]"
      ],
      "metadata": {
        "id": "ZCkZAyoOI-el"
      },
      "execution_count": 22,
      "outputs": []
    },
    {
      "cell_type": "code",
      "source": [
        "rectangle_points = [(x, y), (x + width, y), (x, y + height), (x + width, y + height)]\n",
        "for i in rectangle_points:\n",
        "    for j in center_line_points:\n",
        "        cv2.line(img, i, j, color)"
      ],
      "metadata": {
        "id": "7EHqyRjnNYDZ"
      },
      "execution_count": 23,
      "outputs": []
    },
    {
      "cell_type": "code",
      "source": [
        "cv2_imshow(img)"
      ],
      "metadata": {
        "colab": {
          "base_uri": "https://localhost:8080/",
          "height": 307
        },
        "id": "kp6OCLeQOOCm",
        "outputId": "35f359d4-1e09-4361-bfd6-44af7bd4d25c"
      },
      "execution_count": 24,
      "outputs": [
        {
          "output_type": "display_data",
          "data": {
            "text/plain": [
              "<PIL.Image.Image image mode=RGB size=570x290 at 0x7F640FBCAF10>"
            ],
            "image/png": "[encoded data removed]"
          },
          "metadata": {}
        }
      ]
    },
    {
      "cell_type": "code",
      "source": [
        "cv2.imwrite('mypic.jpg', img)"
      ],
      "metadata": {
        "id": "9AiPAOlmOzU6",
        "colab": {
          "base_uri": "https://localhost:8080/"
        },
        "outputId": "8dea76d1-e00b-401b-dfe2-38b5765ed6b0"
      },
      "execution_count": 28,
      "outputs": [
        {
          "output_type": "execute_result",
          "data": {
            "text/plain": [
              "True"
            ]
          },
          "metadata": {},
          "execution_count": 28
        }
      ]
    }
  ]
}