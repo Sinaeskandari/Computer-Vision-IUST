{
 "cells": [
  {
   "cell_type": "code",
   "execution_count": 12,
   "metadata": {},
   "outputs": [],
   "source": [
    "import cv2\n",
    "import numpy as np"
   ]
  },
  {
   "cell_type": "code",
   "execution_count": 13,
   "id": "3f5adba7",
   "metadata": {},
   "outputs": [],
   "source": [
    "im = cv2.imread('images/img_02.jpg', 0)"
   ]
  },
  {
   "cell_type": "code",
   "execution_count": 17,
   "id": "66d772cb",
   "metadata": {},
   "outputs": [],
   "source": [
    "x, y = np.where(im<100)"
   ]
  },
  {
   "cell_type": "code",
   "execution_count": 18,
   "id": "8eb3dead",
   "metadata": {},
   "outputs": [
    {
     "name": "stdout",
     "output_type": "stream",
     "text": [
      "y = 1.3709995907272559x + -202.96710625458064\n"
     ]
    }
   ],
   "source": [
    "m = (np.average(x) * np.average(y) - np.average(x*y)) / (np.average(x)**2 - np.average(x**2))\n",
    "c = np.average(y) - m * np.average(x)\n",
    "print(f'y = {m}x + {c}')"
   ]
  },
  {
   "cell_type": "code",
   "execution_count": null,
   "id": "c62280c3",
   "metadata": {},
   "outputs": [],
   "source": []
  }
 ],
 "metadata": {
  "kernelspec": {
   "display_name": "Python 3 (ipykernel)",
   "language": "python",
   "name": "python3"
  },
  "language_info": {
   "codemirror_mode": {
    "name": "ipython",
    "version": 3
   },
   "file_extension": ".py",
   "mimetype": "text/x-python",
   "name": "python",
   "nbconvert_exporter": "python",
   "pygments_lexer": "ipython3",
   "version": "3.8.10"
  }
 },
 "nbformat": 4,
 "nbformat_minor": 5
}
