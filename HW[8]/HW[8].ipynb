{
  "cells": [
    {
      "cell_type": "code",
      "execution_count": null,
      "metadata": {
        "id": "eVE9CXTgGLxO",
        "colab": {
          "base_uri": "https://localhost:8080/",
          "height": 1000
        },
        "outputId": "7003e2a7-577d-4844-98d9-f1bdaa9a7945"
      },
      "outputs": [
        {
          "output_type": "stream",
          "name": "stdout",
          "text": [
            "Reading package lists... Done\n",
            "Building dependency tree       \n",
            "Reading state information... Done\n",
            "The following package was automatically installed and is no longer required:\n",
            "  libnvidia-common-460\n",
            "Use 'sudo apt autoremove' to remove it.\n",
            "The following additional packages will be installed:\n",
            "  tesseract-ocr-eng tesseract-ocr-osd\n",
            "The following NEW packages will be installed:\n",
            "  tesseract-ocr tesseract-ocr-eng tesseract-ocr-osd\n",
            "0 upgraded, 3 newly installed, 0 to remove and 7 not upgraded.\n",
            "Need to get 4,795 kB of archives.\n",
            "After this operation, 15.8 MB of additional disk space will be used.\n",
            "Get:1 http://archive.ubuntu.com/ubuntu bionic/universe amd64 tesseract-ocr-eng all 4.00~git24-0e00fe6-1.2 [1,588 kB]\n",
            "Get:2 http://archive.ubuntu.com/ubuntu bionic/universe amd64 tesseract-ocr-osd all 4.00~git24-0e00fe6-1.2 [2,989 kB]\n",
            "Get:3 http://archive.ubuntu.com/ubuntu bionic/universe amd64 tesseract-ocr amd64 4.00~git2288-10f4998a-2 [218 kB]\n",
            "Fetched 4,795 kB in 1s (4,728 kB/s)\n",
            "debconf: unable to initialize frontend: Dialog\n",
            "debconf: (No usable dialog-like program is installed, so the dialog based frontend cannot be used. at /usr/share/perl5/Debconf/FrontEnd/Dialog.pm line 76, <> line 3.)\n",
            "debconf: falling back to frontend: Readline\n",
            "debconf: unable to initialize frontend: Readline\n",
            "debconf: (This frontend requires a controlling tty.)\n",
            "debconf: falling back to frontend: Teletype\n",
            "dpkg-preconfigure: unable to re-open stdin: \n",
            "Selecting previously unselected package tesseract-ocr-eng.\n",
            "(Reading database ... 124015 files and directories currently installed.)\n",
            "Preparing to unpack .../tesseract-ocr-eng_4.00~git24-0e00fe6-1.2_all.deb ...\n",
            "Unpacking tesseract-ocr-eng (4.00~git24-0e00fe6-1.2) ...\n",
            "Selecting previously unselected package tesseract-ocr-osd.\n",
            "Preparing to unpack .../tesseract-ocr-osd_4.00~git24-0e00fe6-1.2_all.deb ...\n",
            "Unpacking tesseract-ocr-osd (4.00~git24-0e00fe6-1.2) ...\n",
            "Selecting previously unselected package tesseract-ocr.\n",
            "Preparing to unpack .../tesseract-ocr_4.00~git2288-10f4998a-2_amd64.deb ...\n",
            "Unpacking tesseract-ocr (4.00~git2288-10f4998a-2) ...\n",
            "Setting up tesseract-ocr-osd (4.00~git24-0e00fe6-1.2) ...\n",
            "Setting up tesseract-ocr-eng (4.00~git24-0e00fe6-1.2) ...\n",
            "Setting up tesseract-ocr (4.00~git2288-10f4998a-2) ...\n",
            "Processing triggers for man-db (2.8.3-2ubuntu0.1) ...\n",
            "Looking in indexes: https://pypi.org/simple, https://us-python.pkg.dev/colab-wheels/public/simple/\n",
            "Collecting pytesseract\n",
            "  Downloading pytesseract-0.3.10-py3-none-any.whl (14 kB)\n",
            "Requirement already satisfied: packaging>=21.3 in /usr/local/lib/python3.8/dist-packages (from pytesseract) (21.3)\n",
            "Collecting Pillow>=8.0.0\n",
            "  Downloading Pillow-9.3.0-cp38-cp38-manylinux_2_17_x86_64.manylinux2014_x86_64.whl (3.2 MB)\n",
            "\u001b[K     |████████████████████████████████| 3.2 MB 15.2 MB/s \n",
            "\u001b[?25hRequirement already satisfied: pyparsing!=3.0.5,>=2.0.2 in /usr/local/lib/python3.8/dist-packages (from packaging>=21.3->pytesseract) (3.0.9)\n",
            "Installing collected packages: Pillow, pytesseract\n",
            "  Attempting uninstall: Pillow\n",
            "    Found existing installation: Pillow 7.1.2\n",
            "    Uninstalling Pillow-7.1.2:\n",
            "      Successfully uninstalled Pillow-7.1.2\n",
            "Successfully installed Pillow-9.3.0 pytesseract-0.3.10\n"
          ]
        },
        {
          "output_type": "display_data",
          "data": {
            "application/vnd.colab-display-data+json": {
              "pip_warning": {
                "packages": [
                  "PIL"
                ]
              }
            }
          },
          "metadata": {}
        }
      ],
      "source": [
        "!sudo apt install tesseract-ocr\n",
        "!pip install pytesseract"
      ]
    },
    {
      "cell_type": "code",
      "execution_count": null,
      "metadata": {
        "id": "iqHoYiSH62pz",
        "colab": {
          "base_uri": "https://localhost:8080/"
        },
        "outputId": "1dfb054f-8874-4c60-89ba-4098ee3de5a2"
      },
      "outputs": [
        {
          "output_type": "stream",
          "name": "stdout",
          "text": [
            "Reading package lists... Done\n",
            "Building dependency tree       \n",
            "Reading state information... Done\n",
            "The following package was automatically installed and is no longer required:\n",
            "  libnvidia-common-460\n",
            "Use 'sudo apt autoremove' to remove it.\n",
            "The following NEW packages will be installed:\n",
            "  tesseract-ocr-fas\n",
            "0 upgraded, 1 newly installed, 0 to remove and 7 not upgraded.\n",
            "Need to get 301 kB of archives.\n",
            "After this operation, 446 kB of additional disk space will be used.\n",
            "Get:1 http://archive.ubuntu.com/ubuntu bionic/universe amd64 tesseract-ocr-fas all 4.00~git24-0e00fe6-1.2 [301 kB]\n",
            "Fetched 301 kB in 1s (533 kB/s)\n",
            "debconf: unable to initialize frontend: Dialog\n",
            "debconf: (No usable dialog-like program is installed, so the dialog based frontend cannot be used. at /usr/share/perl5/Debconf/FrontEnd/Dialog.pm line 76, <> line 1.)\n",
            "debconf: falling back to frontend: Readline\n",
            "debconf: unable to initialize frontend: Readline\n",
            "debconf: (This frontend requires a controlling tty.)\n",
            "debconf: falling back to frontend: Teletype\n",
            "dpkg-preconfigure: unable to re-open stdin: \n",
            "Selecting previously unselected package tesseract-ocr-fas.\n",
            "(Reading database ... 124062 files and directories currently installed.)\n",
            "Preparing to unpack .../tesseract-ocr-fas_4.00~git24-0e00fe6-1.2_all.deb ...\n",
            "Unpacking tesseract-ocr-fas (4.00~git24-0e00fe6-1.2) ...\n",
            "Setting up tesseract-ocr-fas (4.00~git24-0e00fe6-1.2) ...\n"
          ]
        }
      ],
      "source": [
        "!sudo apt-get install tesseract-ocr-fas"
      ]
    },
    {
      "cell_type": "markdown",
      "metadata": {
        "id": "Vk-Bsayi63d_"
      },
      "source": [
        "# **الف:**"
      ]
    },
    {
      "cell_type": "code",
      "execution_count": null,
      "metadata": {
        "colab": {
          "base_uri": "https://localhost:8080/"
        },
        "id": "Kg_QnpkS0AE9",
        "outputId": "f2cfbca8-3fd1-4979-836b-f74225fdcc9e"
      },
      "outputs": [
        {
          "output_type": "stream",
          "name": "stdout",
          "text": [
            "     \n",
            "\n",
            "تبم‌های یر\n",
            "\n",
            "کادر پزشکی و ام\n",
            "فرهنگی «جهاد دان:_ ؟!\n",
            "ری برگزار می‌کردیم ۳\n",
            "\n",
            "ن معمولا با گروه پانزده‌بیست‌نفره ا٩\n",
            "\n",
            "بهیاری و امدادگری را تمام کرده بودند. به ۱\n",
            "\n",
            "و بعد از اتسمام عملیات دوباره\n",
            "\n",
            "دانشگاه می‌ شدیم .. : یشنم\n",
            "\n",
            "4\n",
            "۳۳ ام دم میا یبا ۱\n",
            "0 تم ‌ یچ و ۱\n",
            "\n",
            "ی 9 :\n",
            "مه\n",
            "\n",
            "ا ادا\n",
            "ات دامه داشت تا ایرکه ه سل ۱۳۶۲ مجدد داز ها باز\n",
            "شد ری . هرقدر ارتباط بامحط اا اس 5\n",
            "شرمی توستند به جبهه ها ببایند . با ایین وضعیت معلو 5\n",
            "م نبود ج\n",
            "\n",
            "تقلابی آن روزها بیید؛جوی\n",
            "\n",
            "به بود.\n",
            "باوجود همه و\n",
            "يٍ, «جهاد وازن‌گاهی!\n",
            "\n",
            "اتأمسن ۰ نما های رورا\n",
            "\n",
            "اول آن روزها ۷\n",
            "| کردنك\" موی\n",
            "\n",
            "ویمدهابه ۱\n",
            "\n",
            " \n",
            "\f\n"
          ]
        }
      ],
      "source": [
        "# Import required packages\n",
        "import cv2\n",
        "import pytesseract\n",
        "from google.colab.patches import cv2_imshow\n",
        "from PIL import Image\n",
        "\n",
        "##################### your code ################################\n",
        "img = cv2.imread(\"royan.jpg\")\n",
        "gray = cv2.cvtColor(img, cv2.COLOR_BGR2GRAY)\n",
        "\n",
        "ret, otsu = cv2.threshold(gray, 0, 255, cv2.THRESH_BINARY + cv2.THRESH_OTSU)\n",
        "adaptive = cv2.adaptiveThreshold(gray, 255, cv2.ADAPTIVE_THRESH_GAUSSIAN_C, cv2.THRESH_BINARY, 199, 5)\n",
        "\n",
        "\n",
        "cv2.imwrite('royan_adaptive.jpg', adaptive)\n",
        "cv2.imwrite('royan_otsu.jpg', otsu)\n",
        "\n",
        "\n",
        "################################################################\n",
        "# otsu result\n",
        "result = otsu\n",
        "print(pytesseract.image_to_string(result , lang='fas'))"
      ]
    },
    {
      "cell_type": "code",
      "source": [
        "# adaptive result\n",
        "result = adaptive\n",
        "print(pytesseract.image_to_string(result , lang='fas'))"
      ],
      "metadata": {
        "colab": {
          "base_uri": "https://localhost:8080/"
        },
        "id": "_yuyO4IgecCz",
        "outputId": "e37faa38-2d4c-4a5e-85ae-4f52ed544d09"
      },
      "execution_count": null,
      "outputs": [
        {
          "output_type": "stream",
          "name": "stdout",
          "text": [
            "مم زود بزرگ می‌شدند و رآه چندساله را عرض چند ماء مور :\n",
            "کاظمیآشتیانی هم دراین دوران. یعنی سال‌های ول اک سر\n",
            "جبهه رفت وامد می‌ درد . ۱\n",
            "۳ ماعز مزام هایمان معمولا در ایام عملیات انجام گر ۱\n",
            "تعداد مجروحان در این ایام بیشتر بود و بیشترن\n",
            "تیم‌های پزشکی و امدادی نیاز می‌شد. زمان جنگ\n",
            "کادر پزشکی و امد و درمان نیاز بود. برای همیران طرزر یر\n",
            "\" فرهنگی «جپاد دانشگاهی». برای دانشجوها کاس را\n",
            "و امدادگری برگزار می‌کرديم و زمان شروع عملیاتباکمی‌ن , ]\n",
            "آن معمولا با گروه پانزده بیست‌نفره نوی دم ۱\n",
            "ری وامدادگری رتمام رده بودند.ب مناطق جنی ‏\n",
            "و بعد از اتمام عملیات دوباره برمی‌گشتيم و مشنول ترس و ۱\n",
            "دانشگاه می شسد یم «دکترعبدالحسین شاهوردی. ازدوستان دوان نوی آ]\n",
            "\n",
            "...۰ کاظمی‌آشتیانی و مدیرعامل فعلی پژوهشگاه رویان). تِ ّ\n",
            "همین ن روال ادامه داشت تااینکه سال۱۳۶۲ محدد دانشگاه‌ها هاباز] ۱\n",
            "دانشجویان رفتند سر کلاس. هرقدر ارتباط با محیط آرام دانشگه ین\n",
            "می‌شد» کمترمی‌توانستند به جبپه‌ ها بیایند. با این وضعیت معلوم نب +\n",
            "۱ برسردغدغه‌های نا ارام سعید - و جوانان ‏ پرشورو انقلابی آن روز زها بیاید؛ ۳ اً\n",
            "\n",
            " \n",
            "\n",
            "  \n",
            " \n",
            "  \n",
            " \n",
            " \n",
            "\n",
            "  \n",
            "\n",
            " \n",
            "\n",
            "* که مهم‌ترین دغدغه شان حضور شبانه‌روزی در تب ۳ ن هم دوریف ‏\n",
            "در دانشگاه. نهادی که ارتباط دانشجویان امثال سعیلد اد ۳ 1\n",
            "\n",
            "و انفصال‌ها: باآر مان‌هاو دغدغه هایشان حفظ میک 5 و /\n",
            "بود؛ تشکلی نوپا که به منظور ایجاد ارتباط بین دانشگاه و ۳۹ ود\n",
            "و برزمین‌ماندخ کشورشکل گرفت. ازآنجاکه جنگ اولویت ول\n",
            "\n",
            "5 بچه‌ها به صنای زرگ دوم\n",
            "\n",
            "  \n",
            "\f\n"
          ]
        }
      ]
    },
    {
      "cell_type": "code",
      "execution_count": null,
      "metadata": {
        "id": "W3x3Ro2yHOMC",
        "colab": {
          "base_uri": "https://localhost:8080/"
        },
        "outputId": "fffea3e9-a8c8-41f2-f0f8-2ea07b28f968"
      },
      "outputs": [
        {
          "output_type": "stream",
          "name": "stdout",
          "text": [
            "   \n",
            "     \n",
            "\n",
            "تیم‌های بر\n",
            "\n",
            "کادر پزشکی و ام\n",
            "فرهنگی «جهاد دا:: ؟]\n",
            "و امدادگری برگزار می‌کردیم و ۳\n",
            "\n",
            "آن معمولا با گروه پانزده‌بیست‌ننره۳؟\n",
            "\n",
            "بهباری و امدادگری را تمام کرده بودند. به\n",
            "\n",
            "و بعد از اتمام عملیات ۳ برمی‌گشتيم ۱9\n",
            "دانشگاه می شد یم د:\n",
            "\n",
            "٩ ِ ۹\n",
            "\n",
            "ال و۳\n",
            "\n",
            "ما که ٩ ۵ه قآ\n",
            "\n",
            "همین روال ادامه داشتق نا اینگ ه سال۱۳۶۲ محدد دانشگاه‌ها بازشد؛\n",
            "دانشجویان رفتند سر کلاس. هرفدر ارتباط با محیط ارام دانشگاه یش\n",
            "39 . وی یدای بیایند. با این وضعیت ۳۳\n",
            "\n",
            "نبارن. یرد یی آن روزها بیاید جوی\n",
            "\n",
            "یه بود.\n",
            "اباوجود همه دوک\n",
            "و «جهاد دازشتاهیا\n",
            "وت فا های رو\n",
            "\n",
            "وه آن روز ۳۳\n",
            "\n",
            "| کردند! مو\n",
            "\n",
            "۹ هب\n",
            "\f\n"
          ]
        }
      ],
      "source": [
        "image_path_in_colab='royan.jpg'\n",
        "extractedInformation = pytesseract.image_to_string(image_path_in_colab, lang='fas')\n",
        "print(extractedInformation)"
      ]
    },
    {
      "cell_type": "markdown",
      "metadata": {
        "id": "YyPqXjW06-dh"
      },
      "source": [
        "# **ب:**"
      ]
    },
    {
      "cell_type": "code",
      "execution_count": null,
      "metadata": {
        "id": "JBGeZj_DTzfs",
        "colab": {
          "base_uri": "https://localhost:8080/"
        },
        "outputId": "9d496453-48e3-4a43-bd43-719d0204276f"
      },
      "outputs": [
        {
          "output_type": "stream",
          "name": "stdout",
          "text": [
            " \n",
            "\n",
            "نلم: سینا\n",
            "\n",
            "نام خانوادگی: اسکندری\n",
            "شماره دانشجویی: ۷۵۲۱۰۰6٩\n",
            "تم کتلب مورد علالد دارم\n",
            "\n",
            " \n",
            "\n",
            " \n",
            "\n",
            " \n",
            "\f\n"
          ]
        }
      ],
      "source": [
        "# Import required packages\n",
        "import cv2\n",
        "import pytesseract\n",
        "from google.colab.patches import cv2_imshow\n",
        "from PIL import Image\n",
        "##################### your code ################################\n",
        "img = cv2.imread(\"mypic.png\")\n",
        "gray = cv2.cvtColor(img, cv2.COLOR_BGR2GRAY)\n",
        "\n",
        "ret, otsu = cv2.threshold(gray, 0, 255, cv2.THRESH_BINARY + cv2.THRESH_OTSU)\n",
        "\n",
        "kernel = cv2.getStructuringElement(cv2.MORPH_RECT, (5, 5))\n",
        "\n",
        "dilation = cv2.dilate(otsu, kernel)\n",
        "\n",
        "# cv2_imshow(dilation)\n",
        "\n",
        "################################################################\n",
        "# Finding contours\n",
        "im2 = img.copy()\n",
        "contours, hierarchy = cv2.findContours(dilation, cv2.RETR_EXTERNAL,cv2.CHAIN_APPROX_NONE)\n",
        "\n",
        "for cnt in contours:\n",
        "  x, y, w, h = cv2.boundingRect(cnt)\n",
        "\t# Drawing a rectangle on copied image\n",
        "  rect = cv2.rectangle(im2, (x, y), (x + w, y + h), (0, 255, 0), 2)\n",
        "\t# Cropping the text block for giving input to OCR\n",
        "  cropped = im2[y:y + h, x:x + w]\n",
        "  print(pytesseract.image_to_string(cropped, lang='fas'))\n"
      ]
    },
    {
      "cell_type": "code",
      "execution_count": null,
      "metadata": {
        "id": "VOilxLYHVHwY",
        "colab": {
          "base_uri": "https://localhost:8080/"
        },
        "outputId": "3cb5904a-c030-4b79-d7e7-c591ca068889"
      },
      "outputs": [
        {
          "output_type": "stream",
          "name": "stdout",
          "text": [
            "نلم: سینا\n",
            "\n",
            "نام خانوادگی: اسکندری\n",
            "شماره دانشجویی: ۷۵۲۱۰۰6٩\n",
            "تم کتلب مورد علالد دارم\n",
            "\f\n"
          ]
        }
      ],
      "source": [
        "image_path_in_colab='mypic.png'\n",
        "extractedInformation = pytesseract.image_to_string(image_path_in_colab, lang='fas')\n",
        "print(extractedInformation)"
      ]
    },
    {
      "cell_type": "code",
      "source": [],
      "metadata": {
        "id": "SyqFs2Nb7hz4"
      },
      "execution_count": null,
      "outputs": []
    }
  ],
  "metadata": {
    "colab": {
      "provenance": [],
      "collapsed_sections": [
        "Vk-Bsayi63d_"
      ]
    },
    "gpuClass": "standard",
    "kernelspec": {
      "display_name": "Python 3",
      "name": "python3"
    },
    "language_info": {
      "name": "python"
    }
  },
  "nbformat": 4,
  "nbformat_minor": 0
}